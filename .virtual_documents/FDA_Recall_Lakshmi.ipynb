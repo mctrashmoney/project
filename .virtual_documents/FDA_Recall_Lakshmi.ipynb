import requests
import pandas as pd
import json
import matplotlib.pyplot as plt
import os
import plotly.graph_objects as go

# Define the API endpoint and parameters
url = "https://api.fda.gov/drug/enforcement.json?search=report_date:[20200101+TO+20240804]&limit=500"

# Send a GET request to the API
response = requests.get(url)

# Check if the request was successful
if response.status_code == 200:
    # Parse the JSON data
    data = response.json()
    
    # Extract the list of results (recalls)
    recalls = data.get('results', [])
    
    # Create a DataFrame from the list of recall records
    recall_df = pd.DataFrame(recalls)

    # Convert DataFrame to CSV
    csv_file_path = 'data.csv'
    recall_df.to_csv(csv_file_path, index=False)
    
    print(f"Converted API data to {csv_file_path}")
else:
    print("Failed to retrieve data:", response.status_code)


clean_df = recall_df.rename(columns={"status": "Status", 
                                     "city": "City",
                                     "state": "State",
                                     "country":"Country",
                                     "classification":"Classification",
                                     "openfda":"Open FDA",
                                     "product_type":"Product Type",
                                     "event_id":"Event ID",
                                     "recalling_firm":"Recalling Firm",
                                     "address_1":"Address 1",
                                     "address_2":"Address 2",
                                     "postal_code":"Postal Code",
                                     "voluntary_mandated":"Voluntary Mandated",
                                     "initial_firm_notification":"Initial Firm Notification",
                                     "distribution_pattern":"Distribution Pattern",
                                     "recall_number":"Recall Number",
                                     "product_description":"Product Description",
                                     "product_quantity":"Product Quantity",
                                     "reason_for_recall":"Reason for Recall",
                                     "recall_initiation_date":"Recall Initiation Date",
                                     "center_classification_date":"Center Classification Date",
                                     "termination_date":"Termination Date",
                                     "report_date":"Report Date",
                                     "code_info":"Code Info",
                                     
                                    
                                    })


clean_df.head()



US_recalls_df = clean_df[
    (clean_df['Country'] == 'United States') &
    (clean_df['Status'] == 'Terminated')
     ]
US_recalls_df.head()


recalling_firm_df = US_recalls_df["Recalling Firm"].unique()
recalling_firm_count_df = len(recalling_firm_df)
print("Total amount of unique Recalling Firms associated to the FDA Recalls is "  + str(recalling_firm_count_df) )


firm_count_df = US_recalls_df["Recalling Firm"].value_counts().head(10)

print(firm_count_df)


# Ensure the directory exists
output_dir = "data"
if not os.path.exists(output_dir):
    os.makedirs(output_dir)

# Your plotting code
ax = firm_count_df.plot(kind="bar", 
                   color="royalblue",
                   figsize=(10, 6), 
                   title="Top 10 Recalling Firms by Number of Recalls")
plt.xlabel("Recalling Firm")
plt.ylabel("Number of Recalls")
plt.xticks(rotation=-30, ha="left")

for container in ax.containers:
    for bar in container:
        height = bar.get_height()
        # Determine the label position: top or bottom of the bar
        y_offset = height if height > 0 else height
        va = "bottom" if height > 0 else "top"
        
        # Add a text label
        ax.text(bar.get_x() + bar.get_width() / 2, y_offset, 
                f'{height}', 
                ha="center", va=va)

# Save the figure
plt.savefig(os.path.join(output_dir, "Top 10 Recalling Firms by Number of Recalls.png"))
plt.show()



# Get the top 15 recalling firms
top_firms = clean_df["Recalling Firm"].value_counts().head(10).index

# Filter the dataset to include only the top 15 firms
filtered_df = clean_df[clean_df["Recalling Firm"].isin(top_firms)]

# Group the data by firm and status
grouped_data = filtered_df.groupby(["Recalling Firm", 'Classification']).size().unstack(fill_value=0)

# Create a single subplot
fig = go.Figure()

# Stacked bar plot for status breakdown
for status in grouped_data.columns:
    fig.add_trace(
        go.Bar(x=grouped_data.index, y=grouped_data[status], name=status)
    )

# Update layout for a better presentation
fig.update_layout(
    barmode="stack",
    height=700,
    width=1000,
    title_text="Classification Breakdown by Top 10 Recalling Firms",
    showlegend=True
)

fig.update_xaxes(title_text="Recalling Firm")


# Load the dataset
df = pd.read_csv('data.csv')

# Convert report_date to datetime format
df['report_date'] = pd.to_datetime(df['report_date'], format='%Y%m%d')

# Group by year and month, then count the number of recalls
recall_trends = df.groupby(df['report_date'].dt.to_period('M')).size()

# Plot the recall trends over time
recall_trends.plot(kind='line', figsize=(10, 6), title='Number of Recalls Over Time')
plt.xlabel('Date')
plt.ylabel('Number of Recalls')
plt.show()


# Group by year and classification, then count the number of recalls
recall_trends_yearly = df.groupby([df['report_date'].dt.year, 'classification']).size().unstack(fill_value=0)
recall_trends_yearly


# Group by year and classification, then count the number of recalls
plt.figure(figsize=(12, 6))
recall_trends_yearly.plot(kind='line', marker='o', figsize=(12, 6))
plt.title("Yearly Recall Trends by Firm")
plt.xlabel("Year")
plt.ylabel("Number of Recalls")
plt.xticks(rotation=45)
plt.legend(title="Recalling Firm", bbox_to_anchor=(1.05, 1), loc='upper left')
plt.tight_layout()  # Adjust layout to make room for the legend
plt.show()


#states impacted by Recalls?
US_recalls_df = US_recalls_df[US_recalls_df['State'].str.strip() != '']
states_impacted = US_recalls_df['State'].unique()
states_impactedcount = len(states_impacted)
time_period = US_recalls_df['Report Date'].unique()

time_period_dates = pd.to_datetime(time_period)

# Sort dates
time_period_dates = time_period_dates.sort_values()

earliest_date = time_period_dates[0]
latest_date = time_period_dates[-1]

# Print the earliest and latest dates 
print(f"Earliest Date: {earliest_date.strftime('%B %Y')}")
print(f"Latest Date: {latest_date.strftime('%B %Y')}")


print(states_impacted)
print(str(states_impactedcount) + ' States Impacted by FDA Recalls' + ' '+'between ' + earliest_date.strftime('%B %Y') + ' to ' + latest_date.strftime('%B %Y'))



state_counts = US_recalls_df['State'].value_counts().head(10)
print(state_counts)



Impacted_states = state_counts.head(10).index.tolist()
print(Impacted_states)


# Get the top 5 most impacted states
top_states = Impacted_states[:10]

# Get the count of recalls for each state
state_counts = clean_df['State'].value_counts()

# Filter the state counts for the top 5 states
top_state_counts = state_counts[state_counts.index.isin(top_states)]

# Plot 
plt.pie(top_state_counts, labels=top_states, autopct='%1.1f%%')
plt.title('Recalls by Top 10 most impacted States')
plt.show()


# Group by Classification and State, and count the occurrences
classification_state_counts = US_recalls_df.groupby(['Classification', 'State']).size().unstack(fill_value=0)
    
    # Function to prepare data for pie chart with top 10 states and "Others"
def prepare_pie_data(data):
        top_10 = data.nlargest(10)
        others = pd.Series(data.sum() - top_10.sum(), index=['Others'])
        return pd.concat([top_10, others])
    
    # Plot pie charts for each classification
classifications = ['Class I', 'Class II', 'Class III']
    
plt.figure(figsize=(18, 6))  # Adjust the size to fit three pie charts
    
for i, classification in enumerate(classifications):
        plt.subplot(1, 3, i + 1)
        if classification in classification_state_counts.index:
            pie_data = prepare_pie_data(classification_state_counts.loc[classification])
            pie_data.plot(kind='pie', autopct='%1.1f%%', startangle=140)
            plt.title(f'{classification} Recalls by State')
            plt.ylabel('')  # Remove the y-label to clean up the plot
    
plt.tight_layout()
plt.show()


# Count recalls by classification and year
# Extract year from report_date
US_recalls_df['Report Year'] = pd.to_datetime(US_recalls_df['Report Date']).dt.year
    
    # Group by Classification and Report Year, and count the occurrences
classification_year_counts = US_recalls_df.groupby(['Classification', 'Report Year']).size().unstack(fill_value=0)
    
    # Display the counts in the console
print("Recall counts by Classification and Year:")
print(classification_year_counts)
  


  
    # Plot classification and year relationship
classification_year_counts.T.plot(kind='bar', stacked=True, figsize=(15, 10))
plt.title('Number of Recalls by Classification and Year')
plt.xlabel('Year')
plt.ylabel('Number of Recalls')
plt.legend(title='Classification')
plt.show()



